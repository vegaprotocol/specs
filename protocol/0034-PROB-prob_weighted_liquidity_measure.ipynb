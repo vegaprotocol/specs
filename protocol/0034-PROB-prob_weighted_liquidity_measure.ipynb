{
 "cells": [
  {
   "cell_type": "markdown",
   "metadata": {},
   "source": [
    "# Liquidity Measure\n",
    "\n",
    "\n",
    "## Summary\n",
    "We need to measure liquidity available on a market in order to see whether market makers are keeping \n",
    "their commitment. \n",
    "Here we propose a method that counts liquidity as the probability weighted average of the value of volume on the book (in the settlement currency of the market). \n",
    "This gives view of liquidity at one instant of time; we then use exponential weighted average over time to obtain the desired measure.\n",
    "\n",
    "## Inputs\n",
    "- network parameter `probability_of_trading_tau_scaling` which has to be $\\geq 1$.\n",
    "- risk model for the market but with $\\tau$ (`tau`) replaced with `probability_of_trading_tau_scaling x tau`.\n",
    "- order book volume\n",
    "\n",
    "## Terminology\n",
    "- Instantenaous liquidity $\\lambda$, defined below in detail in this spec file.\n",
    "- `mid price = (best bid - best offer) / 2` (or undefined if either side of the book is empty).\n",
    "- buy / sell side volume refer to the volume available at a distance from mid price, $V = V(x)$, where $x > 0$ refers to sell side, $x < 0$ refers to buy side and $x$ belongs to the set of all price points available on the book.\n",
    "- probability of volume at distance from mid price trading: $p = p(x)$, this comes from risk model with $\\tau$ (`tau`) replaced with `probability_of_trading_tau_scaling x tau`.\n",
    "- auction level buy price $x_{min} < 0$ and auction level sell price $x_{max} > 0$ for will come from auction spec.\n",
    "\n",
    "Note that both $\\delta$ and $\\alpha$  are network wide parameters.\n",
    "\n",
    "## Details\n",
    "During auctions (price monitoring auctions, liquidity auctions, frequent batch auctions) we don't have `mid price` as mentioned above. Use the `last trade price` or `indicative uncrossing price` instead. \n",
    "\n",
    "The instantenaous liquidiy should get calculated as needed and will change with any changes to order book.\n",
    "\n",
    "### Understanding probability of trading \n",
    "Each risk model gives probability distribution of future price moves, given current price (the risk models are too crude to care whether this is mark,  mid-price, or best bid / best ask. Given current price level $S$ and a time step $\\tau > 0$ (expressed as year fraction) the risk model gives, for each \"tick\" the probability that the price at time $\\tau$ from now will be $S_\\tau$. Write this is $\\mathbb P(S_\\tau = x | S) =: f(x)$. The probability that volume at tick $x$ trades is \n",
    "$$\n",
    "p(x) = \\frac1Z\\sum_{x \\leq x' \\leq x_{max}} f(x') \\quad \\text{for $x>S$ and } \\quad p(x) = \\frac1Z\\sum_{x_{min} \\leq x' \\leq x} f(x') \\quad \\text{for $x<S$}\\,,\n",
    "$$\n",
    "where the normalising factor $Z$ is  \n",
    "$$\n",
    "Z = \\sum_{S \\leq x' \\leq x_{max}} f(x') \\quad \\text{for $x>S$ and } \\quad Z = \\sum_{x_{min} \\leq x' \\leq S} f(x')   \\quad \\text{for $x<S$}\\,.\n",
    "$$\n",
    "We adopt the convention that $p(x) = \\frac12$ for x between (and including) best bid and best ask and we normalise p(x) so that 0 \\leq p(x) \\leq \\frac12 \\forall x. \n",
    "\n",
    "### Calculating the instantenaous liquidity\n",
    "\n",
    "Case 1: no mid price (i.e. best bid or best offer or both are missing)\n",
    "$\\lambda := 0$ if there is no mid price (i.e. when either the buy or sell side of the book are empty)\n",
    "\n",
    "Case 2: we have best bid and best ask (or indicative uncrossing price for auctions)\n",
    "- Obtain $x_{min}$ and $x_{max}$ from the price monitoring information for the nearest-in-time trigger. \n",
    "- Get the list of possible ticks $x$ s.t. $x_{max} \\geq x \\geq x_{best\\, ask}$ values from the order book. Call these $x^+_i$, with $i = 1,\\ldots,N^+$. \n",
    "- Get the list of possible ticks $x$ s.t. $x_{min} \\leq x \\leq x_{best\\, bid}$ from the order book and call these $x^-_i$, with $i = 1, \\ldots , N^-$. \n",
    "- Get the volume $V(x)$ available at each $x = x^-_i$ and $x^+_i$ from the order book.\n",
    "- Get the price $S(x)$ corresponding to each $x = x^-_i$ and $x^+_i$. For futures this is immediate from the order book. For products that don't trade on price convert this to a monetary value first (e.g. if options are quoted using BS vol then convert this to option price or if a product that trades on yield, convert to price).\n",
    "- Get the probability $p(x)$ of trading for each of $x = x^-_i$ and $x^+_i$ from the risk model as described above. \n",
    "\n",
    "\n",
    "Now you can calculate \n",
    "$$\n",
    "\\lambda := \n",
    "\\min\\left(\n",
    "    \\sum_{i=1}^{N^+} S(x^+_i) V(x^+_i) p(x^+_i), \n",
    "    \\sum_{i=1}^{N^-} S(x^-_i) V(x^-_i) p(x^-_i) \n",
    "\\right)\\,.\n",
    "$$\n",
    "\n",
    "### Calculating the liquidity provided by a single party\n",
    "\n",
    "This is the same as above except that $V = V(x)$ isn't the entire volume on the book at that time but rather it's the volume provided by the given participant. The best bid / best ask used are the ones for the entire order book, not the one implied by a single party.\n",
    "\n",
    "## Acceptance Criteria\n",
    "\n",
    "1. It is always true that for $x_{min}$, $x_{max}$ (from risk model) and $S$ we work with (either `mid` or `last trade price` as appropriate) we have $x_{min} < S < x_{max}$. (<a name=\"0034-PROB-001\" href=\"#0034-PROB-001\">0034-PROB-001</a>)\n",
    "2. If there is volume on either side of the order book within $[x_{min},x_{max}]$ then the reported liquidity is strictly more than $0$ when using the `log-normal` risk model (with any valid parameters). (<a name=\"0034-PROB-002\" href=\"#0034-PROB-002\">0034-PROB-002</a>)\n",
    "3. If there is no mid price in continuous trading then the reported liquidity is $0$. (<a name=\"0034-PROB-003\" href=\"#0034-PROB-003\">0034-PROB-003</a>)\n",
    "4. If there is no last trade price in an auction (opening auction in particular) then the reported liquidity is $0$. (<a name=\"0034-PROB-004\" href=\"#0034-PROB-004\">0034-PROB-004</a>)\n"
   ]
  },
  {
   "cell_type": "markdown",
   "metadata": {},
   "source": [
    "\" href=\"#0034-PROB-004\">0034-PROB-004</a>)\n"
   ]
  },
  {
   "cell_type": "code",
   "execution_count": null,
   "metadata": {},
   "outputs": [],
   "source": []
  }
 ],
 "metadata": {
  "kernelspec": {
   "display_name": "Python 3",
   "language": "python",
   "name": "python3"
  },
  "language_info": {
   "codemirror_mode": {
    "name": "ipython",
    "version": 3
   },
   "file_extension": ".py",
   "mimetype": "text/x-python",
   "name": "python",
   "nbconvert_exporter": "python",
   "pygments_lexer": "ipython3",
   "version": "3.7.6"
  }
 },
 "nbformat": 4,
 "nbformat_minor": 2
}
